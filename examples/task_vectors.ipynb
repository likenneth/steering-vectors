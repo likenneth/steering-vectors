{
 "cells": [
  {
   "cell_type": "code",
   "execution_count": 1,
   "metadata": {},
   "outputs": [],
   "source": [
    "%load_ext autoreload\n",
    "%autoreload 2"
   ]
  },
  {
   "cell_type": "code",
   "execution_count": 2,
   "metadata": {},
   "outputs": [],
   "source": [
    "import os\n",
    "os.environ['TRANSFORMERS_CACHE'] = \"../../../workspace\""
   ]
  },
  {
   "cell_type": "code",
   "execution_count": 3,
   "metadata": {},
   "outputs": [
    {
     "name": "stderr",
     "output_type": "stream",
     "text": [
      "/root/.local/share/virtualenvs/steering-vectors-pCHwRNkN-py3.10/lib/python3.10/site-packages/tqdm/auto.py:21: TqdmWarning: IProgress not found. Please update jupyter and ipywidgets. See https://ipywidgets.readthedocs.io/en/stable/user_install.html\n",
      "  from .autonotebook import tqdm as notebook_tqdm\n",
      "/root/.local/share/virtualenvs/steering-vectors-pCHwRNkN-py3.10/lib/python3.10/site-packages/transformers/utils/hub.py:124: FutureWarning: Using `TRANSFORMERS_CACHE` is deprecated and will be removed in v5 of Transformers. Use `HF_HOME` instead.\n",
      "  warnings.warn(\n"
     ]
    }
   ],
   "source": [
    "import torch\n",
    "from transformers import AutoTokenizer, pipeline, AutoModelForCausalLM, PreTrainedModel, PreTrainedTokenizer, GenerationConfig"
   ]
  },
  {
   "cell_type": "code",
   "execution_count": 10,
   "metadata": {},
   "outputs": [],
   "source": [
    "from steering_vectors.train_steering_vector import extract_steering_vector"
   ]
  },
  {
   "cell_type": "code",
   "execution_count": 4,
   "metadata": {},
   "outputs": [
    {
     "name": "stderr",
     "output_type": "stream",
     "text": [
      "model.safetensors.index.json: 100%|██████████| 26.8k/26.8k [00:00<00:00, 21.3MB/s]\n",
      "model-00001-of-00002.safetensors: 100%|██████████| 9.98G/9.98G [00:39<00:00, 255MB/s]\n",
      "model-00002-of-00002.safetensors: 100%|██████████| 3.50G/3.50G [00:14<00:00, 240MB/s]\n",
      "Downloading shards: 100%|██████████| 2/2 [00:54<00:00, 27.25s/it]\n",
      "Loading checkpoint shards: 100%|██████████| 2/2 [00:23<00:00, 11.92s/it]\n",
      "generation_config.json: 100%|██████████| 188/188 [00:00<00:00, 329kB/s]\n",
      "tokenizer_config.json: 100%|██████████| 776/776 [00:00<00:00, 1.28MB/s]\n",
      "tokenizer.model: 100%|██████████| 500k/500k [00:00<00:00, 11.3MB/s]\n",
      "special_tokens_map.json: 100%|██████████| 414/414 [00:00<00:00, 917kB/s]\n",
      "tokenizer.json: 100%|██████████| 1.84M/1.84M [00:00<00:00, 3.56MB/s]\n"
     ]
    }
   ],
   "source": [
    "model_name_or_path = \"meta-llama/Llama-2-7b-hf\"\n",
    "\n",
    "model = AutoModelForCausalLM.from_pretrained(model_name_or_path, torch_dtype=torch.bfloat16, device_map=\"auto\")\n",
    "use_fast_tokenizer = \"LlamaForCausalLM\" not in model.config.architectures\n",
    "tokenizer = AutoTokenizer.from_pretrained(model_name_or_path, use_fast=use_fast_tokenizer, padding_side=\"left\", legacy=False)\n",
    "tokenizer.pad_token_id = 0 if tokenizer.pad_token_id is None else tokenizer.pad_token_id\n",
    "tokenizer.bos_token_id = 1"
   ]
  },
  {
   "cell_type": "code",
   "execution_count": 6,
   "metadata": {},
   "outputs": [],
   "source": [
    "def get_completion(\n",
    "    model,\n",
    "    tokenizer,\n",
    "    text,\n",
    "    max_new_tokens=30,\n",
    "):\n",
    "    with torch.no_grad():\n",
    "        output = model.generate(\n",
    "            **tokenizer(text, return_tensors='pt').to(model.device),\n",
    "            max_new_tokens=max_new_tokens,\n",
    "            do_sample=False\n",
    "        )\n",
    "    completion = tokenizer.decode(output[0], skip_special_tokens=True)\n",
    "    return completion"
   ]
  },
  {
   "cell_type": "code",
   "execution_count": 7,
   "metadata": {},
   "outputs": [
    {
     "name": "stderr",
     "output_type": "stream",
     "text": [
      "/root/.local/share/virtualenvs/steering-vectors-pCHwRNkN-py3.10/lib/python3.10/site-packages/transformers/generation/configuration_utils.py:392: UserWarning: `do_sample` is set to `False`. However, `temperature` is set to `0.6` -- this flag is only used in sample-based generation modes. You should set `do_sample=True` or unset `temperature`.\n",
      "  warnings.warn(\n",
      "/root/.local/share/virtualenvs/steering-vectors-pCHwRNkN-py3.10/lib/python3.10/site-packages/transformers/generation/configuration_utils.py:397: UserWarning: `do_sample` is set to `False`. However, `top_p` is set to `0.9` -- this flag is only used in sample-based generation modes. You should set `do_sample=True` or unset `top_p`.\n",
      "  warnings.warn(\n"
     ]
    }
   ],
   "source": [
    "completion = get_completion(\n",
    "    model,\n",
    "    tokenizer,\n",
    "    \"Canada -> Ottawa, China -> Beijing, France -> Paris, India ->\",\n",
    "    max_new_tokens=5,\n",
    ")"
   ]
  },
  {
   "cell_type": "code",
   "execution_count": 11,
   "metadata": {},
   "outputs": [],
   "source": [
    "icl_prompt = \"Canada -> Ottawa, China -> Beijing, France -> Paris,\" "
   ]
  },
  {
   "cell_type": "code",
   "execution_count": 12,
   "metadata": {},
   "outputs": [],
   "source": [
    "capital_data = [\n",
    "    (\"Germany\", \"Berlin\"),\n",
    "    (\"United Kingdom\", \"London\"),\n",
    "    (\"Austria\", \"Vienna\"),\n",
    "    (\"Italy\", \"Rome\"),\n",
    "    (\"Japan\", \"Tokyo\"),\n",
    "    (\"Egypt\", \"Cairo\"),\n",
    "    (\"USA\", \"Washington\"),\n",
    "    (\"Brazil\", \"Brasilia\"),\n",
    "    (\"Russia\", \"Moscow\"),\n",
    "    (\"Australia\", \"Canberra\"),\n",
    "    (\"Netherlands\", \"Amsterdam\"),\n",
    "    (\"Belgium\", \"Brussels\"),\n",
    "    (\"Ireland\", \"Dublin\"),\n",
    "    (\"Mexico\", \"Mexico City\"),\n",
    "    (\"Spain\", \"Madrid\"),\n",
    "    (\"Portugal\", \"Lisbon\"),\n",
    "    (\"Sweden\", \"Stockholm\"),\n",
    "    (\"Vietnam\", \"Hanoi\"),\n",
    "    (\"Philippines\", \"Manila\"),\n",
    "    (\"South Africa\", \"Pretoria\"),\n",
    "]"
   ]
  },
  {
   "cell_type": "code",
   "execution_count": 78,
   "metadata": {},
   "outputs": [],
   "source": [
    "def get_nth_token(word, tokenizer, n):\n",
    "    return tokenizer.convert_ids_to_tokens(tokenizer.encode(word))[n]"
   ]
  },
  {
   "cell_type": "code",
   "execution_count": 82,
   "metadata": {},
   "outputs": [],
   "source": [
    "acc_with_icl_prompt = 0\n",
    "acc_baseline = 0\n",
    "for country, capital in capital_data:\n",
    "    full_icl_prompt = icl_prompt + f\", {country} ->\"\n",
    "    target_token = get_nth_token(capital, tokenizer, 1)\n",
    "    icl_completion = get_completion(\n",
    "        model,\n",
    "        tokenizer,\n",
    "        full_icl_prompt,\n",
    "        max_new_tokens=1,\n",
    "    )[0]\n",
    "    output_token = get_nth_token(icl_completion, tokenizer, -1)\n",
    "    if target_token.lower() == output_token.lower():\n",
    "        acc_with_icl_prompt += 1\n",
    "    task_prompt = f\"{country} ->\"\n",
    "    basline_completion = get_completion(\n",
    "        model,\n",
    "        tokenizer,\n",
    "        task_prompt,\n",
    "        max_new_tokens=1,\n",
    "    )[0]\n",
    "    output_token = get_nth_token(basline_completion, tokenizer, -1)\n",
    "    if target_token.lower() == output_token.lower():\n",
    "        acc_baseline += 1\n",
    "\n",
    "acc_with_icl_prompt /= len(capital_data)\n",
    "acc_baseline /= len(capital_data)"
   ]
  },
  {
   "cell_type": "code",
   "execution_count": 85,
   "metadata": {},
   "outputs": [
    {
     "name": "stderr",
     "output_type": "stream",
     "text": [
      "/root/.local/share/virtualenvs/steering-vectors-pCHwRNkN-py3.10/lib/python3.10/site-packages/transformers/generation/configuration_utils.py:392: UserWarning: `do_sample` is set to `False`. However, `temperature` is set to `0.6` -- this flag is only used in sample-based generation modes. You should set `do_sample=True` or unset `temperature`.\n",
      "  warnings.warn(\n",
      "/root/.local/share/virtualenvs/steering-vectors-pCHwRNkN-py3.10/lib/python3.10/site-packages/transformers/generation/configuration_utils.py:397: UserWarning: `do_sample` is set to `False`. However, `top_p` is set to `0.9` -- this flag is only used in sample-based generation modes. You should set `do_sample=True` or unset `top_p`.\n",
      "  warnings.warn(\n"
     ]
    }
   ],
   "source": [
    "task_vector_accs = []\n",
    "# add dummy task to extract task vector\n",
    "prompt = icl_prompt + \" Switzerland ->\"\n",
    "completions = []\n",
    "\n",
    "for layer in range(32):\n",
    "    task_vector = extract_steering_vector(\n",
    "        model,\n",
    "        tokenizer,\n",
    "        prompt,\n",
    "        layers=[layer],\n",
    "    )\n",
    "    layer_accuracy = 0\n",
    "    layer_completions = []\n",
    "    for country, capital in capital_data:\n",
    "        target_token = get_nth_token(capital, tokenizer, 1)\n",
    "        task_prompt = f\"{country} ->\"\n",
    "        with task_vector.apply(model, min_token_index=1):\n",
    "            task_vector_completion = get_completion(\n",
    "                model,\n",
    "                tokenizer,\n",
    "                task_prompt,\n",
    "                max_new_tokens=1,\n",
    "            )[0]\n",
    "            layer_completions.append(task_vector_completion)\n",
    "            output_token = get_nth_token(task_vector_completion, tokenizer, -1)\n",
    "        if target_token.lower() in output_token.lower():\n",
    "            layer_accuracy += 1\n",
    "    completions.append(layer_completions)\n",
    "    task_vector_accs.append(layer_accuracy / len(capital_data))"
   ]
  },
  {
   "cell_type": "code",
   "execution_count": 90,
   "metadata": {},
   "outputs": [
    {
     "data": {
      "image/png": "[encoded data removed]",
      "text/plain": [
       "<Figure size 640x480 with 1 Axes>"
      ]
     },
     "metadata": {},
     "output_type": "display_data"
    }
   ],
   "source": [
    "import matplotlib.pyplot as plt\n",
    "\n",
    "plt.plot(list(range(32)), task_vector_accs, label=\"task vector accuracy\")\n",
    "plt.plot(list(range(32)), [acc_baseline] * 32, label=\"baseline accuracy\", linestyle=\"--\")\n",
    "plt.plot(list(range(32)), [acc_with_icl_prompt] * 32, label=\"icl prompt accuracy\", linestyle=\"--\")\n",
    "plt.xlabel('Layers')\n",
    "plt.ylabel('Accuracy')\n",
    "plt.title('Accuracy vs Layers')\n",
    "plt.legend()\n",
    "plt.show()"
   ]
  }
 ],
 "metadata": {
  "kernelspec": {
   "display_name": "steering-vectors-pCHwRNkN-py3.10",
   "language": "python",
   "name": "python3"
  },
  "language_info": {
   "codemirror_mode": {
    "name": "ipython",
    "version": 3
   },
   "file_extension": ".py",
   "mimetype": "text/x-python",
   "name": "python",
   "nbconvert_exporter": "python",
   "pygments_lexer": "ipython3",
   "version": "3.10.12"
  }
 },
 "nbformat": 4,
 "nbformat_minor": 2
}
